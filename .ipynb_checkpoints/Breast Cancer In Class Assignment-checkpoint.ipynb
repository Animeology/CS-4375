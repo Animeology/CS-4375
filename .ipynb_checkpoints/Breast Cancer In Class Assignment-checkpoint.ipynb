{
 "cells": [
  {
   "cell_type": "code",
   "execution_count": 66,
   "id": "c6fec5c2",
   "metadata": {},
   "outputs": [],
   "source": [
    "from sklearn.linear_model import LogisticRegression\n",
    "from sklearn.svm import SVC\n",
    "from sklearn.ensemble import RandomForestClassifier\n",
    "import numpy as np\n",
    "from sklearn.datasets import load_breast_cancer\n",
    "bc = load_breast_cancer()"
   ]
  },
  {
   "cell_type": "code",
   "execution_count": 67,
   "id": "3a0280ff",
   "metadata": {},
   "outputs": [],
   "source": [
    "from sklearn.model_selection import train_test_split\n",
    "X_train, X_test, y_train, y_test = train_test_split(bc.data, bc.target,test_size=0.3)"
   ]
  },
  {
   "cell_type": "code",
   "execution_count": 68,
   "id": "e33a9054",
   "metadata": {},
   "outputs": [
    {
     "data": {
      "text/plain": [
       "0.9649122807017544"
      ]
     },
     "execution_count": 68,
     "metadata": {},
     "output_type": "execute_result"
    }
   ],
   "source": [
    "logmodel = LogisticRegression(max_iter=3000)\n",
    "logmodel.fit(X_train, y_train)\n",
    "logmodel.score(X_test, y_test)"
   ]
  },
  {
   "cell_type": "code",
   "execution_count": 69,
   "id": "31417bd2",
   "metadata": {},
   "outputs": [
    {
     "data": {
      "text/plain": [
       "0.9473684210526315"
      ]
     },
     "execution_count": 69,
     "metadata": {},
     "output_type": "execute_result"
    }
   ],
   "source": [
    "svmmodel = SVC()\n",
    "svmmodel.fit(X_train, y_train)\n",
    "svmmodel.score(X_test, y_test)"
   ]
  },
  {
   "cell_type": "code",
   "execution_count": 70,
   "id": "627d4410",
   "metadata": {},
   "outputs": [
    {
     "data": {
      "text/plain": [
       "0.9707602339181286"
      ]
     },
     "execution_count": 70,
     "metadata": {},
     "output_type": "execute_result"
    }
   ],
   "source": [
    "rfmodel = RandomForestClassifier(n_estimators=40)\n",
    "rfmodel.fit(X_train, y_train)\n",
    "rfmodel.score(X_test, y_test)"
   ]
  },
  {
   "cell_type": "code",
   "execution_count": 71,
   "id": "8ad97a8f",
   "metadata": {},
   "outputs": [],
   "source": [
    "def get_score(model, X_train, X_test, y_train, y_test):\n",
    "    model.fit(X_train, y_train)\n",
    "    return model.score(X_test, y_test)"
   ]
  },
  {
   "cell_type": "code",
   "execution_count": 72,
   "id": "6abdb129",
   "metadata": {},
   "outputs": [
    {
     "data": {
      "text/plain": [
       "0.9649122807017544"
      ]
     },
     "execution_count": 72,
     "metadata": {},
     "output_type": "execute_result"
    }
   ],
   "source": [
    "get_score(LogisticRegression(max_iter=3000), X_train, X_test, y_train, y_test)"
   ]
  },
  {
   "cell_type": "code",
   "execution_count": 73,
   "id": "fdfaf2aa",
   "metadata": {},
   "outputs": [
    {
     "data": {
      "text/plain": [
       "0.9473684210526315"
      ]
     },
     "execution_count": 73,
     "metadata": {},
     "output_type": "execute_result"
    }
   ],
   "source": [
    "get_score(SVC(), X_train, X_test, y_train, y_test)"
   ]
  },
  {
   "cell_type": "code",
   "execution_count": 74,
   "id": "25a863f3",
   "metadata": {},
   "outputs": [
    {
     "data": {
      "text/plain": [
       "0.9707602339181286"
      ]
     },
     "execution_count": 74,
     "metadata": {},
     "output_type": "execute_result"
    }
   ],
   "source": [
    "from sklearn.base import estimator_html_repr\n",
    "get_score(RandomForestClassifier(n_estimators=40), X_train, X_test, y_train, y_test)"
   ]
  },
  {
   "cell_type": "code",
   "execution_count": 75,
   "id": "45b1415c",
   "metadata": {},
   "outputs": [],
   "source": [
    "from sklearn.model_selection import StratifiedKFold\n",
    "folds = StratifiedKFold(n_splits=3)"
   ]
  },
  {
   "cell_type": "code",
   "execution_count": 76,
   "id": "061fdd2a",
   "metadata": {},
   "outputs": [
    {
     "name": "stdout",
     "output_type": "stream",
     "text": [
      "0.9421052631578948\n",
      "0.8526315789473684\n",
      "0.9315789473684211\n",
      "0.9631578947368421\n",
      "0.9315789473684211\n",
      "0.968421052631579\n",
      "0.9470899470899471\n",
      "0.9470899470899471\n",
      "0.9682539682539683\n"
     ]
    }
   ],
   "source": [
    "for train_index, test_index in folds.split(bc.data, bc.target):\n",
    "    X_train, X_test, y_train, y_test = bc.data[train_index], bc.data[test_index], \\\n",
    "                                       bc.target[train_index], bc.target[test_index]\n",
    "    print(get_score(LogisticRegression(max_iter=3000), X_train, X_test, y_train, y_test))\n",
    "    print(get_score(SVC(), X_train, X_test, y_train, y_test))\n",
    "    print(get_score(RandomForestClassifier(n_estimators=40), X_train, X_test, y_train, y_test))"
   ]
  },
  {
   "cell_type": "code",
   "execution_count": 77,
   "id": "2d75f5aa",
   "metadata": {},
   "outputs": [],
   "source": [
    "score_log = []\n",
    "score_svm = []\n",
    "score_rf = []\n",
    "\n",
    "for train_index, test_index in kf.split(bc.data):\n",
    "    X_train, X_test, y_train, y_test = bc.data[train_index], bc.data[test_index], \\\n",
    "                                       bc.target[train_index], bc.target[test_index]\n",
    "    score_log.append(get_score(LogisticRegression(max_iter=3000), X_train, X_test, y_train, y_test))\n",
    "    score_svm.append(get_score(SVC(), X_train, X_test, y_train, y_test))\n",
    "    score_rf.append(get_score(RandomForestClassifier(n_estimators=40), X_train, X_test, y_train, y_test))"
   ]
  },
  {
   "cell_type": "code",
   "execution_count": 78,
   "id": "b65c2240",
   "metadata": {},
   "outputs": [
    {
     "data": {
      "text/plain": [
       "[0.9157894736842105, 0.968421052631579, 0.9470899470899471]"
      ]
     },
     "execution_count": 78,
     "metadata": {},
     "output_type": "execute_result"
    }
   ],
   "source": [
    "score_log"
   ]
  },
  {
   "cell_type": "code",
   "execution_count": 79,
   "id": "42d367f9",
   "metadata": {},
   "outputs": [
    {
     "data": {
      "text/plain": [
       "[0.8157894736842105, 0.9368421052631579, 0.9365079365079365]"
      ]
     },
     "execution_count": 79,
     "metadata": {},
     "output_type": "execute_result"
    }
   ],
   "source": [
    "score_svm"
   ]
  },
  {
   "cell_type": "code",
   "execution_count": 80,
   "id": "6b5d591d",
   "metadata": {},
   "outputs": [
    {
     "data": {
      "text/plain": [
       "[0.9263157894736842, 0.9894736842105263, 0.9629629629629629]"
      ]
     },
     "execution_count": 80,
     "metadata": {},
     "output_type": "execute_result"
    }
   ],
   "source": [
    "score_rf"
   ]
  },
  {
   "cell_type": "code",
   "execution_count": 81,
   "id": "12711e6a",
   "metadata": {},
   "outputs": [
    {
     "data": {
      "text/plain": [
       "array([0.93859649, 0.94736842, 0.98245614, 0.92982456, 0.95575221])"
      ]
     },
     "execution_count": 81,
     "metadata": {},
     "output_type": "execute_result"
    }
   ],
   "source": [
    "from sklearn.model_selection import cross_val_score\n",
    "cross_val_score(LogisticRegression(max_iter=4000), bc.data, bc.target)"
   ]
  },
  {
   "cell_type": "code",
   "execution_count": 82,
   "id": "651550bc",
   "metadata": {},
   "outputs": [
    {
     "data": {
      "text/plain": [
       "array([0.85087719, 0.89473684, 0.92982456, 0.94736842, 0.9380531 ])"
      ]
     },
     "execution_count": 82,
     "metadata": {},
     "output_type": "execute_result"
    }
   ],
   "source": [
    "cross_val_score(SVC(), bc.data, bc.target)"
   ]
  },
  {
   "cell_type": "code",
   "execution_count": 83,
   "id": "32e8fdce",
   "metadata": {},
   "outputs": [
    {
     "data": {
      "text/plain": [
       "array([0.93859649, 0.93859649, 0.96491228, 0.97368421, 0.97345133])"
      ]
     },
     "execution_count": 83,
     "metadata": {},
     "output_type": "execute_result"
    }
   ],
   "source": [
    "cross_val_score(RandomForestClassifier(n_estimators=40), bc.data, bc.target)"
   ]
  },
  {
   "cell_type": "code",
   "execution_count": null,
   "id": "e110dd72",
   "metadata": {},
   "outputs": [],
   "source": []
  }
 ],
 "metadata": {
  "kernelspec": {
   "display_name": "Python 3 (ipykernel)",
   "language": "python",
   "name": "python3"
  },
  "language_info": {
   "codemirror_mode": {
    "name": "ipython",
    "version": 3
   },
   "file_extension": ".py",
   "mimetype": "text/x-python",
   "name": "python",
   "nbconvert_exporter": "python",
   "pygments_lexer": "ipython3",
   "version": "3.9.12"
  }
 },
 "nbformat": 4,
 "nbformat_minor": 5
}
